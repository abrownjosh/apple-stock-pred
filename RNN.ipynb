{
  "nbformat": 4,
  "nbformat_minor": 0,
  "metadata": {
    "colab": {
      "provenance": []
    },
    "kernelspec": {
      "name": "python3",
      "display_name": "Python 3"
    },
    "language_info": {
      "name": "python"
    }
  },
  "cells": [
    {
      "cell_type": "code",
      "execution_count": null,
      "metadata": {
        "id": "wsGrulW37WPM"
      },
      "outputs": [],
      "source": [
        "# Generic Libraries Used to work with Data\n",
        "import numpy as np\n",
        "import pandas as pd\n",
        "import seaborn as sns\n",
        "import matplotlib.pyplot as plt\n",
        "\n",
        "# Libraries for Machine Learning Tasks\n",
        "from sklearn.model_selection import train_test_split\n",
        "from sklearn.preprocessing import MinMaxScaler\n",
        "from tensorflow.keras.models import Sequential\n",
        "from tensorflow.keras.layers import LSTM, Dense"
      ]
    },
    {
      "cell_type": "code",
      "source": [
        "# Data Preprocessing\n",
        "\n",
        "Meta_DS = pd.read_csv('/content/drive/MyDrive/Datasets/meta.csv')\n",
        "Apple_DS = pd.read_csv('/content/drive/MyDrive/Datasets/apple.csv')\n",
        "Ebay_DS = pd.read_csv('/content/drive/MyDrive/Datasets/ebay.csv')\n",
        "Google_DS = pd.read_csv('/content/drive/MyDrive/Datasets/google.csv')\n",
        "\n",
        "new_Meta_DS = Meta_DS.copy()\n",
        "new_Google_DS = Google_DS.copy()\n",
        "new_Ebay_DS = Ebay_DS.copy()\n",
        "new_Apple_DS = Apple_DS.copy()\n",
        "\n",
        "new_Meta_DS.columns = 'Meta ' + Meta_DS.columns\n",
        "new_Google_DS.columns = 'Google ' + Google_DS.columns\n",
        "new_Ebay_DS.columns = 'Ebay ' + Ebay_DS.columns\n",
        "new_Apple_DS.columns = 'Apple ' + Apple_DS.columns\n",
        "\n",
        "merged_df = pd.concat([new_Meta_DS, new_Google_DS, new_Ebay_DS, new_Apple_DS], axis=1)\n",
        "merged_df.drop(columns=['Meta Volume', 'Meta Close/Last', 'Meta High', 'Meta Low'], inplace=True)\n",
        "merged_df.drop(columns=['Google Volume', 'Google Close/Last', 'Google High', 'Google Low', 'Google Date'], inplace=True)\n",
        "merged_df.drop(columns=['Apple Volume', 'Apple Close/Last', 'Apple High', 'Apple Low', 'Apple  Date '], inplace=True)\n",
        "merged_df.drop(columns=['Ebay Volume', 'Ebay Close/Last', 'Ebay High', 'Ebay Low', 'Ebay Date'], inplace=True)\n",
        "\n",
        "merged_df.rename(columns={'Meta Date':'Date'}, inplace=True)"
      ],
      "metadata": {
        "id": "r5ENtlMX8BcB"
      },
      "execution_count": null,
      "outputs": []
    },
    {
      "cell_type": "code",
      "source": [],
      "metadata": {
        "id": "5X_ngdpsS8aN"
      },
      "execution_count": null,
      "outputs": []
    },
    {
      "cell_type": "code",
      "source": [
        "# ADJUSTABLE\n",
        "# Choose in X definition which to not predict\n",
        "X = merged_df.drop(columns=['Date', 'Ebay Open', 'Meta Open', 'Google Open'])\n",
        "#X = X.iloc[-50:]\n",
        "y = merged_df['Apple Open']\n",
        "\n",
        "# Normalize features using Min-Max scaling\n",
        "scaler = MinMaxScaler()\n",
        "X_scaled = scaler.fit_transform(X)"
      ],
      "metadata": {
        "id": "k2yGdGuoUGpx"
      },
      "execution_count": null,
      "outputs": []
    },
    {
      "cell_type": "code",
      "source": [
        "def create_sequences(data, sequence_length):\n",
        "    X, y = [], []\n",
        "    for i in range(len(data) - sequence_length):\n",
        "        X.append(data[i:(i + sequence_length)])\n",
        "        y.append(data[i + sequence_length])\n",
        "    return np.array(X), np.array(y)\n",
        "\n",
        "# Create sequences\n",
        "sequence_length = 10\n",
        "X_seq, y_seq = create_sequences(X_scaled, sequence_length)"
      ],
      "metadata": {
        "id": "dc3iCvkAUwU8"
      },
      "execution_count": null,
      "outputs": []
    },
    {
      "cell_type": "code",
      "source": [
        "# Split data into training and testing sets\n",
        "# Can't use train test split since we have to care\n",
        "# about predicting future values, not just any values.\n",
        "split_index = int(0.8 * len(X_seq))\n",
        "X_train, X_test = X_seq[:split_index], X_seq[split_index:]\n",
        "y_train, y_test = y_seq[:split_index], y_seq[split_index:]"
      ],
      "metadata": {
        "id": "g1nx7HZwU1_F"
      },
      "execution_count": null,
      "outputs": []
    },
    {
      "cell_type": "code",
      "source": [
        "# Define RNN model architecture\n",
        "model = Sequential([\n",
        "    LSTM(units=50, activation='relu', return_sequences=True, input_shape=(sequence_length, X_train.shape[2])),\n",
        "    LSTM(units=50, activation='relu'),\n",
        "    Dense(units=1)\n",
        "]) # Very Adjustable\n",
        "\n",
        "model.compile(optimizer='adam', loss='mse') # Adjustable\n",
        "\n",
        "history = model.fit(X_train, y_train, epochs=15, batch_size=1, validation_data=(X_test, y_test)) # Adjustable\n",
        "\n",
        "model.summary()"
      ],
      "metadata": {
        "colab": {
          "base_uri": "https://localhost:8080/"
        },
        "id": "PGOVHPcOVUZg",
        "outputId": "b8e43ee5-5f29-4737-dd76-ec5b5b1eed42"
      },
      "execution_count": null,
      "outputs": [
        {
          "output_type": "stream",
          "name": "stdout",
          "text": [
            "Epoch 1/15\n",
            "392/392 [==============================] - 6s 9ms/step - loss: 0.0454 - val_loss: 0.0127\n",
            "Epoch 2/15\n",
            "392/392 [==============================] - 4s 11ms/step - loss: 0.0384 - val_loss: 0.0293\n",
            "Epoch 3/15\n",
            "392/392 [==============================] - 4s 10ms/step - loss: 0.0381 - val_loss: 0.0144\n",
            "Epoch 4/15\n",
            "392/392 [==============================] - 3s 8ms/step - loss: 0.0375 - val_loss: 0.0133\n",
            "Epoch 5/15\n",
            "392/392 [==============================] - 3s 8ms/step - loss: 0.0373 - val_loss: 0.0128\n",
            "Epoch 6/15\n",
            "392/392 [==============================] - 3s 9ms/step - loss: 0.0371 - val_loss: 0.0079\n",
            "Epoch 7/15\n",
            "392/392 [==============================] - 5s 13ms/step - loss: 0.0369 - val_loss: 0.0113\n",
            "Epoch 8/15\n",
            "392/392 [==============================] - 3s 8ms/step - loss: 0.0369 - val_loss: 0.0171\n",
            "Epoch 9/15\n",
            "392/392 [==============================] - 3s 8ms/step - loss: 0.0368 - val_loss: 0.0143\n",
            "Epoch 10/15\n",
            "392/392 [==============================] - 3s 8ms/step - loss: 0.0365 - val_loss: 0.0210\n",
            "Epoch 11/15\n",
            "392/392 [==============================] - 5s 12ms/step - loss: 0.0367 - val_loss: 0.0123\n",
            "Epoch 12/15\n",
            "392/392 [==============================] - 4s 10ms/step - loss: 0.0365 - val_loss: 0.0097\n",
            "Epoch 13/15\n",
            "392/392 [==============================] - 3s 8ms/step - loss: 0.0365 - val_loss: 0.0109\n",
            "Epoch 14/15\n",
            "392/392 [==============================] - 3s 8ms/step - loss: 0.0364 - val_loss: 0.0092\n",
            "Epoch 15/15\n",
            "392/392 [==============================] - 4s 11ms/step - loss: 0.0363 - val_loss: 0.0149\n",
            "Model: \"sequential_1\"\n",
            "_________________________________________________________________\n",
            " Layer (type)                Output Shape              Param #   \n",
            "=================================================================\n",
            " lstm_2 (LSTM)               (None, 10, 50)            10600     \n",
            "                                                                 \n",
            " lstm_3 (LSTM)               (None, 50)                20200     \n",
            "                                                                 \n",
            " dense_1 (Dense)             (None, 1)                 51        \n",
            "                                                                 \n",
            "=================================================================\n",
            "Total params: 30851 (120.51 KB)\n",
            "Trainable params: 30851 (120.51 KB)\n",
            "Non-trainable params: 0 (0.00 Byte)\n",
            "_________________________________________________________________\n"
          ]
        }
      ]
    },
    {
      "cell_type": "code",
      "source": [
        "future_steps = 10  # Adjustable\n",
        "future_predictions = []\n",
        "\n",
        "current_sequence = X_test[-1].reshape(1, sequence_length, X_test.shape[2])\n",
        "\n",
        "for i in range(future_steps):\n",
        "\n",
        "    # Predict next time step\n",
        "    next_prediction = model.predict(current_sequence)\n",
        "\n",
        "    # Append predicted value to list of future predictions\n",
        "    # We only use [0][0] since we don't need the most detailed values\n",
        "    future_predictions.append(next_prediction[0][0])\n",
        "\n",
        "    # Create a new sequence for next time step\n",
        "    next_sequence = np.zeros_like(current_sequence)\n",
        "    next_sequence[:, :-1, :] = current_sequence[:, 1:, :]  # Shift existing sequence one step left\n",
        "    next_sequence[:, -1, :] = next_prediction  # Replace last element with predicted value\n",
        "\n",
        "    # Update current sequence for next iteration\n",
        "    current_sequence = next_sequence"
      ],
      "metadata": {
        "colab": {
          "base_uri": "https://localhost:8080/"
        },
        "id": "icPwin6JU_mb",
        "outputId": "4df89dcf-9a13-4844-a686-2622a62b7b19"
      },
      "execution_count": null,
      "outputs": [
        {
          "output_type": "stream",
          "name": "stdout",
          "text": [
            "1/1 [==============================] - 1s 568ms/step\n",
            "1/1 [==============================] - 0s 46ms/step\n",
            "1/1 [==============================] - 0s 36ms/step\n",
            "1/1 [==============================] - 0s 42ms/step\n",
            "1/1 [==============================] - 0s 46ms/step\n",
            "1/1 [==============================] - 0s 48ms/step\n",
            "1/1 [==============================] - 0s 44ms/step\n",
            "1/1 [==============================] - 0s 38ms/step\n",
            "1/1 [==============================] - 0s 40ms/step\n",
            "1/1 [==============================] - 0s 39ms/step\n"
          ]
        }
      ]
    },
    {
      "cell_type": "code",
      "source": [
        "future_predictions_array = np.array(future_predictions)\n",
        "\n",
        "# Reshape future_predictions_reshaped to match shape of original input data\n",
        "future_predictions_reshaped = future_predictions_array.reshape(-1, 1)\n",
        "\n",
        "# Repeat predictions (adjusted when working with more than 1 feature)\n",
        "future_predictions_reshaped = np.repeat(future_predictions_reshaped, 2, axis=1)\n",
        "\n",
        "# Inverse transform predictions\n",
        "future_predictions_scaled = scaler.inverse_transform(future_predictions_reshaped)\n",
        "\n",
        "# Convert predictions back to original scale\n",
        "new_future_predictions = future_predictions_scaled.flatten()\n",
        "\n",
        "print(new_future_predictions)"
      ],
      "metadata": {
        "colab": {
          "base_uri": "https://localhost:8080/"
        },
        "id": "w7eG-VvhXDdE",
        "outputId": "31ae84ee-bc59-47ee-b5ce-140b12bfc0d1"
      },
      "execution_count": null,
      "outputs": [
        {
          "output_type": "stream",
          "name": "stdout",
          "text": [
            "[ 58.818836 178.596     54.68444  168.97978   50.977074 160.35681\n",
            "  47.73177  152.80853   45.08943  146.66272   43.02638  141.86424\n",
            "  41.48798  138.28609   40.419044 135.79984   39.70667  134.14291\n",
            "  39.285866 133.16417 ]\n"
          ]
        }
      ]
    },
    {
      "cell_type": "code",
      "source": [
        "Apple_2024 = pd.read_csv('/content/drive/MyDrive/Datasets/Apple-24.csv')\n",
        "print(Apple_2024['Open'])\n",
        "print(merged_df['Apple Open'])\n",
        "print(new_future_predictions)\n",
        "arr = []\n",
        "for i in range(len(Apple_2024)):\n",
        "  arr.append(i)\n",
        "\n",
        "Apple_2024['Date'] = arr\n",
        "\n",
        "X = np.array(Apple_2024['Date']).reshape(-1, 1)\n",
        "y = Apple_2024['Open']\n",
        "\n",
        "fig, ax = plt.subplots()\n",
        "ax.plot(Apple_2024['Open'])\n",
        "ax.plot(new_future_predictions)\n",
        "ax.set_xlabel('Future Prediction Day #')\n",
        "ax.set_ylabel('Price ($/Share)')\n",
        "ax.legend(['Actual', 'Predicted'])\n",
        "ax.set_title('Apple Stock Price Prediction')\n",
        "plt.show()\n",
        "\n",
        "#print(y)\n",
        "#clf.score(X, y)"
      ],
      "metadata": {
        "colab": {
          "base_uri": "https://localhost:8080/",
          "height": 923
        },
        "id": "F5WSJ3oiBvOE",
        "outputId": "b7ab8d51-c73a-48c3-9731-2409bfb69076"
      },
      "execution_count": null,
      "outputs": [
        {
          "output_type": "stream",
          "name": "stdout",
          "text": [
            "0    186.06\n",
            "1    186.54\n",
            "2    184.35\n",
            "3    183.92\n",
            "4    182.09\n",
            "5    181.99\n",
            "6    182.15\n",
            "7    184.22\n",
            "8    187.15\n",
            "Name: Open, dtype: float64\n",
            "0      193.90\n",
            "1      194.14\n",
            "2      192.49\n",
            "3      193.61\n",
            "4      195.18\n",
            "        ...  \n",
            "496    172.89\n",
            "497    172.70\n",
            "498    179.61\n",
            "499    182.63\n",
            "500    177.83\n",
            "Name: Apple Open, Length: 501, dtype: float64\n",
            "[ 58.818836 178.596     54.68444  168.97978   50.977074 160.35681\n",
            "  47.73177  152.80853   45.08943  146.66272   43.02638  141.86424\n",
            "  41.48798  138.28609   40.419044 135.79984   39.70667  134.14291\n",
            "  39.285866 133.16417 ]\n"
          ]
        },
        {
          "output_type": "display_data",
          "data": {
            "text/plain": [
              "<Figure size 640x480 with 1 Axes>"
            ],
            "image/png": "[encoded data removed]"
          },
          "metadata": {}
        }
      ]
    }
  ]
}